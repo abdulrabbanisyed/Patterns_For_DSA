{
 "cells": [
  {
   "cell_type": "markdown",
   "metadata": {},
   "source": [
    "## 22 MUST DO PATTERNS FOR DSA"
   ]
  },
  {
   "cell_type": "markdown",
   "metadata": {},
   "source": [
    "## Rectangle Pattern\n"
   ]
  },
  {
   "cell_type": "code",
   "execution_count": 23,
   "metadata": {},
   "outputs": [
    {
     "name": "stdout",
     "output_type": "stream",
     "text": [
      "****\n",
      "****\n",
      "****\n",
      "****\n"
     ]
    }
   ],
   "source": [
    "def rectangle_pattern(n):\n",
    "    for i in range(n):\n",
    "        print('*' * n)\n",
    "    return None  \n",
    "\n",
    "rectangle_pattern(4)  "
   ]
  },
  {
   "cell_type": "markdown",
   "metadata": {},
   "source": [
    "## Increasing Order Pattern"
   ]
  },
  {
   "cell_type": "code",
   "execution_count": 24,
   "metadata": {},
   "outputs": [
    {
     "name": "stdout",
     "output_type": "stream",
     "text": [
      "\n",
      "*\n",
      "**\n",
      "***\n",
      "****\n"
     ]
    }
   ],
   "source": [
    "def increasing_order_Pattern(n):\n",
    "    for i in range(n+1):\n",
    "        print('*' * i)\n",
    "    return None\n",
    "increasing_order_Pattern(4)"
   ]
  },
  {
   "cell_type": "markdown",
   "metadata": {},
   "source": [
    "## Increasing Number Pattern"
   ]
  },
  {
   "cell_type": "code",
   "execution_count": 25,
   "metadata": {},
   "outputs": [
    {
     "name": "stdout",
     "output_type": "stream",
     "text": [
      "\n",
      "\n",
      "1\n",
      "\n",
      "12\n",
      "\n",
      "123\n",
      "\n",
      "1234\n",
      "\n",
      "12345\n",
      "\n"
     ]
    }
   ],
   "source": [
    "def Increasing_Number_Pattern(n):\n",
    "    for i in range(n+1):\n",
    "        for j in range(1,i+1):\n",
    "            print(j,end = \"\")\n",
    "        print(\"\\n\")\n",
    "    return None\n",
    "\n",
    "Increasing_Number_Pattern(5)"
   ]
  },
  {
   "cell_type": "markdown",
   "metadata": {},
   "source": [
    "## Increasing Same number Pattern"
   ]
  },
  {
   "cell_type": "code",
   "execution_count": 26,
   "metadata": {},
   "outputs": [
    {
     "name": "stdout",
     "output_type": "stream",
     "text": [
      "\n",
      "\n",
      "1\n",
      "\n",
      "22\n",
      "\n",
      "333\n",
      "\n",
      "4444\n",
      "\n",
      "55555\n",
      "\n"
     ]
    }
   ],
   "source": [
    "def Increasing_same_number(n):\n",
    "    for i in range(n+1):\n",
    "        for j in range(1,i+1):\n",
    "            print(i, end = \"\")\n",
    "        print(\"\\n\")\n",
    "    return None\n",
    "\n",
    "Increasing_same_number(5)"
   ]
  },
  {
   "cell_type": "markdown",
   "metadata": {},
   "source": [
    "## Decreasing Order Pattern"
   ]
  },
  {
   "cell_type": "code",
   "execution_count": 27,
   "metadata": {},
   "outputs": [
    {
     "name": "stdout",
     "output_type": "stream",
     "text": [
      "****\n",
      "***\n",
      "**\n",
      "*\n"
     ]
    }
   ],
   "source": [
    "def Decreasing_Order_Pattern(n):\n",
    "    for i in range(n-1,0,-1):\n",
    "        print(\"*\"* i)\n",
    "    return None\n",
    "\n",
    "Decreasing_Order_Pattern(5)"
   ]
  },
  {
   "cell_type": "markdown",
   "metadata": {},
   "source": [
    "## Decreasing Order Pattern"
   ]
  },
  {
   "cell_type": "code",
   "execution_count": 28,
   "metadata": {},
   "outputs": [
    {
     "name": "stdout",
     "output_type": "stream",
     "text": [
      "12345678910\n",
      "\n",
      "123456789\n",
      "\n",
      "12345678\n",
      "\n",
      "1234567\n",
      "\n",
      "123456\n",
      "\n",
      "12345\n",
      "\n",
      "1234\n",
      "\n",
      "123\n",
      "\n",
      "12\n",
      "\n",
      "1\n",
      "\n"
     ]
    }
   ],
   "source": [
    "def Decreasing_Order_Numbers(n):\n",
    "    for i in range(n, 0, -1):\n",
    "        for j in range(1, i+1):\n",
    "            print(j, end = \"\")\n",
    "        print(\"\\n\")\n",
    "    return None\n",
    "\n",
    "Decreasing_Order_Numbers(10)"
   ]
  },
  {
   "cell_type": "markdown",
   "metadata": {},
   "source": [
    "## Star Pyramid"
   ]
  },
  {
   "cell_type": "code",
   "execution_count": 29,
   "metadata": {},
   "outputs": [
    {
     "name": "stdout",
     "output_type": "stream",
     "text": [
      "         *         \n",
      "        ***        \n",
      "       *****       \n",
      "      *******      \n",
      "     *********     \n",
      "    ***********    \n",
      "   *************   \n",
      "  ***************  \n",
      " ***************** \n",
      "*******************\n"
     ]
    }
   ],
   "source": [
    "def Star_Pyramid(n):\n",
    "    for i in range(n): # for Outer row \n",
    "        for j in range(n-i-1):\n",
    "            print(\" \", end = \"\") # for leading spaces\n",
    "        for k in range(2 * i + 1):\n",
    "            print(\"*\",end=\"\") # for stars\n",
    "        for l in range(n-i-1):# For leading spaces after stars\n",
    "            print(\" \", end=\"\")\n",
    "        print()\n",
    "    return None\n",
    "Star_Pyramid(10)"
   ]
  },
  {
   "cell_type": "markdown",
   "metadata": {},
   "source": [
    "## Optimised Star Pyramid"
   ]
  },
  {
   "cell_type": "code",
   "execution_count": 211,
   "metadata": {},
   "outputs": [
    {
     "name": "stdout",
     "output_type": "stream",
     "text": [
      "         *\n",
      "        ***\n",
      "       *****\n",
      "      *******\n",
      "     *********\n",
      "    ***********\n",
      "   *************\n",
      "  ***************\n",
      " *****************\n",
      "*******************\n",
      "\n",
      "\n"
     ]
    }
   ],
   "source": [
    "def Star_Pyramid(n):\n",
    "    for i in range(n):\n",
    "        # Print leading spaces\n",
    "        for j in range(n - i - 1):\n",
    "            print(\" \", end=\"\")\n",
    "        # Print stars\n",
    "        for k in range(2 * i + 1):\n",
    "            print(\"*\", end=\"\")\n",
    "        # Move to the next line\n",
    "        print()\n",
    "    print(\"\\n\")\n",
    "    return None\n",
    "\n",
    "# Example usage\n",
    "Star_Pyramid(10)\n"
   ]
  },
  {
   "cell_type": "markdown",
   "metadata": {},
   "source": [
    "## Reverse Star Pyramid"
   ]
  },
  {
   "cell_type": "code",
   "execution_count": 30,
   "metadata": {},
   "outputs": [
    {
     "name": "stdout",
     "output_type": "stream",
     "text": [
      "*******************\n",
      " *****************\n",
      "  ***************\n",
      "   *************\n",
      "    ***********\n",
      "     *********\n",
      "      *******\n",
      "       *****\n",
      "        ***\n",
      "         *\n",
      "\n",
      "\n"
     ]
    }
   ],
   "source": [
    "def reverse_star_pyramid(n):\n",
    "    for i in range(n,0,-1):\n",
    "        for j in range(n-i):\n",
    "            print(\" \", end = \"\")\n",
    "        for k in range(2 * i - 1):\n",
    "            print(\"*\", end = \"\")\n",
    "        print()\n",
    "    print(\"\\n\")\n",
    "    return None\n",
    "\n",
    "reverse_star_pyramid(10)"
   ]
  },
  {
   "cell_type": "markdown",
   "metadata": {},
   "source": [
    "## Diamond Star Pattern"
   ]
  },
  {
   "cell_type": "code",
   "execution_count": 31,
   "metadata": {},
   "outputs": [
    {
     "name": "stdout",
     "output_type": "stream",
     "text": [
      "         *         \n",
      "        ***        \n",
      "       *****       \n",
      "      *******      \n",
      "     *********     \n",
      "    ***********    \n",
      "   *************   \n",
      "  ***************  \n",
      " ***************** \n",
      "*******************\n",
      "*******************\n",
      " *****************\n",
      "  ***************\n",
      "   *************\n",
      "    ***********\n",
      "     *********\n",
      "      *******\n",
      "       *****\n",
      "        ***\n",
      "         *\n",
      "\n",
      "\n"
     ]
    }
   ],
   "source": [
    "def diamond_star(n):\n",
    "    x = Star_Pyramid(n)\n",
    "    x = reverse_star_pyramid(n)\n",
    "    return x\n",
    "\n",
    "diamond_star(10)"
   ]
  },
  {
   "cell_type": "markdown",
   "metadata": {},
   "source": [
    "## Half Diamond Star Pattern"
   ]
  },
  {
   "cell_type": "code",
   "execution_count": 32,
   "metadata": {},
   "outputs": [
    {
     "name": "stdout",
     "output_type": "stream",
     "text": [
      "\n",
      "*\n",
      "**\n",
      "***\n",
      "****\n",
      "*****\n",
      "******\n",
      "*******\n",
      "********\n",
      "*********\n",
      "**********\n",
      "*********\n",
      "********\n",
      "*******\n",
      "******\n",
      "*****\n",
      "****\n",
      "***\n",
      "**\n",
      "*\n",
      "\n",
      "\n"
     ]
    }
   ],
   "source": [
    "def half_diamond_star(n):\n",
    "    for i in range(2 * n):\n",
    "        stars = i\n",
    "        if i > n:\n",
    "            stars = 2 * n - i\n",
    "        print(\"*\" * stars)\n",
    "    print(\"\\n\")\n",
    "    return None\n",
    "\n",
    "half_diamond_star(10)"
   ]
  },
  {
   "cell_type": "markdown",
   "metadata": {},
   "source": [
    "## Pure Binary Triangle Pattern"
   ]
  },
  {
   "cell_type": "code",
   "execution_count": 33,
   "metadata": {},
   "outputs": [
    {
     "name": "stdout",
     "output_type": "stream",
     "text": [
      "1 \n",
      "\n",
      "0 1 \n",
      "\n",
      "0 1 0 \n",
      "\n",
      "1 0 1 0 \n",
      "\n",
      "1 0 1 0 1 \n",
      "\n"
     ]
    }
   ],
   "source": [
    "def binary_number_trianle_Pattern(n):\n",
    "    temp = 1\n",
    "    for i in range(1, n+1):\n",
    "        for j in range(i):\n",
    "            if temp == 1:\n",
    "                print(temp, end = \" \")\n",
    "                temp -= 1\n",
    "            elif temp == 0:\n",
    "                print(temp, end = \" \")\n",
    "                temp += 1\n",
    "        print(\"\\n\")\n",
    "    return None\n",
    "\n",
    "binary_number_trianle_Pattern(5)"
   ]
  },
  {
   "cell_type": "markdown",
   "metadata": {},
   "source": [
    "## Worst Case Binary Number Triangle Pattern"
   ]
  },
  {
   "cell_type": "code",
   "execution_count": 35,
   "metadata": {},
   "outputs": [
    {
     "name": "stdout",
     "output_type": "stream",
     "text": [
      "1 \n",
      "\n",
      "\n",
      "0 1 \n",
      "\n",
      "\n",
      "1 0 1 \n",
      "\n",
      "\n",
      "0 1 0 1 \n",
      "\n",
      "\n",
      "1 0 1 0 1 \n",
      "\n",
      "\n"
     ]
    }
   ],
   "source": [
    "def binary_number_trianle_Pattern1(n):\n",
    "    for i in range(1,n+1):\n",
    "        if i == 1:\n",
    "            temp = 1\n",
    "            print(temp, end = \" \")\n",
    "            print()\n",
    "        elif i % 2 == 0:\n",
    "            temp = 0\n",
    "            for j in range(i):\n",
    "                if temp == 1:\n",
    "                    print(temp, end = \" \")\n",
    "                    temp -= 1\n",
    "                elif temp == 0:\n",
    "                    print(temp, end = \" \")\n",
    "                    temp += 1\n",
    "            print()\n",
    "        elif i % 2 != 0:\n",
    "            temp = 1\n",
    "            for k in range(i):\n",
    "                if temp == 1:\n",
    "                    print(temp, end = \" \")\n",
    "                    temp -= 1\n",
    "                elif temp == 0:\n",
    "                    print(temp, end = \" \")\n",
    "                    temp += 1\n",
    "            print()\n",
    "        else:\n",
    "            print(\"Invalid Operation\")\n",
    "        print(\"\\n\")\n",
    "    return None\n",
    "\n",
    "binary_number_trianle_Pattern1(5)\n"
   ]
  },
  {
   "cell_type": "markdown",
   "metadata": {},
   "source": [
    "## Optimized Binary Nummber Triangle Pattern"
   ]
  },
  {
   "cell_type": "code",
   "execution_count": 36,
   "metadata": {},
   "outputs": [
    {
     "name": "stdout",
     "output_type": "stream",
     "text": [
      "1 \n",
      "\n",
      "0 1 \n",
      "\n",
      "1 0 1 \n",
      "\n",
      "0 1 0 1 \n",
      "\n",
      "1 0 1 0 1 \n",
      "\n"
     ]
    }
   ],
   "source": [
    "def binary_number_trianle_Pattern2(n):\n",
    "    for i in range(1,n+1):\n",
    "        if i % 2 == 0:\n",
    "            temp = 0\n",
    "        else:\n",
    "            temp = 1\n",
    "        for j in range(i):\n",
    "            print(temp, end = \" \")\n",
    "            temp = 1- temp\n",
    "        print(\"\\n\")\n",
    "    return None\n",
    "binary_number_trianle_Pattern2(5)"
   ]
  },
  {
   "cell_type": "markdown",
   "metadata": {},
   "source": [
    "## Number Crown Pattern"
   ]
  },
  {
   "cell_type": "code",
   "execution_count": 95,
   "metadata": {},
   "outputs": [
    {
     "name": "stdout",
     "output_type": "stream",
     "text": [
      "1                1\n",
      "12              21\n",
      "123            321\n",
      "1234          4321\n",
      "12345        54321\n",
      "123456      654321\n",
      "1234567    7654321\n",
      "12345678  87654321\n",
      "123456789987654321\n"
     ]
    }
   ],
   "source": [
    "def number_crown_pattern(n):\n",
    "    spaces = 2 *(n-1) # for spaces between numbers\n",
    "    for i in range(1,n+1):\n",
    "        for j in range(1,i+1):# printing the numbers in increasing order\n",
    "            print(j, end = \"\")\n",
    "        for k in range(spaces):\n",
    "            print(\" \", end = \"\")# printing the spaces between numbers\n",
    "        for l in range(i,0,-1):\n",
    "            print(l, end = \"\")# printing the numbers in decreasing order\n",
    "        print()\n",
    "        spaces -= 2 # after each increament the spaces reduce by 2\n",
    "    return None\n",
    "\n",
    "number_crown_pattern(9)\n"
   ]
  },
  {
   "cell_type": "markdown",
   "metadata": {},
   "source": [
    "## Increasing Number Triangle Pattern"
   ]
  },
  {
   "cell_type": "code",
   "execution_count": 99,
   "metadata": {},
   "outputs": [
    {
     "name": "stdout",
     "output_type": "stream",
     "text": [
      "1 \n",
      "2 3 \n",
      "4 5 6 \n",
      "7 8 9 10 \n",
      "11 12 13 14 15 \n"
     ]
    }
   ],
   "source": [
    "def increasing_number_triangle(n):\n",
    "    temp = 1\n",
    "    for i in range(1,n+1):\n",
    "        for j in range(1,i+1):\n",
    "            print(temp, end = \" \")\n",
    "            temp += 1\n",
    "        print()\n",
    "    return None\n",
    "\n",
    "increasing_number_triangle(5)"
   ]
  },
  {
   "cell_type": "markdown",
   "metadata": {},
   "source": [
    "## Increasing Letter Triangle Pattern"
   ]
  },
  {
   "cell_type": "code",
   "execution_count": 160,
   "metadata": {},
   "outputs": [
    {
     "name": "stdout",
     "output_type": "stream",
     "text": [
      "a \n",
      "a b \n",
      "a b c \n",
      "a b c d \n",
      "a b c d e \n"
     ]
    }
   ],
   "source": [
    "def increasing_letter_triangle_pattern1(n):\n",
    "    for i in range(1,n+1):\n",
    "        for j in range(1, i+1):\n",
    "            # chr(ord('@')+ number) -> It gives the (Upper Case)letter associated to the number that is 1-> 'A', 2-> 'B'...26->'Z'\n",
    "            #print(chr(ord('@')+j), end = \" \")\n",
    "            # chr(ord('`')+ number) -> It gives the (Lower Case)letter associated to the number that is 1-> 'a', 2-> 'b'...26->'z'\n",
    "            print(chr(ord('`')+j), end = \" \") \n",
    "        print()\n",
    "        \n",
    "    return None\n",
    "\n",
    "#Sample example\n",
    "increasing_letter_triangle_pattern1(5)"
   ]
  },
  {
   "cell_type": "markdown",
   "metadata": {},
   "source": [
    "## Decreasing Letter Triangle Pattern"
   ]
  },
  {
   "cell_type": "code",
   "execution_count": 170,
   "metadata": {},
   "outputs": [
    {
     "name": "stdout",
     "output_type": "stream",
     "text": [
      "A B C D E \n",
      "A B C D \n",
      "A B C \n",
      "A B \n",
      "A \n"
     ]
    }
   ],
   "source": [
    "def decreasing_letter_triangle_pattern(n):\n",
    "    for i in range(n,0,-1):\n",
    "        for j in range(1,i+1):\n",
    "            print(chr(ord('@')+j),end = \" \")\n",
    "        print()\n",
    "\n",
    "#Example\n",
    "decreasing_letter_triangle_pattern(5)"
   ]
  },
  {
   "cell_type": "markdown",
   "metadata": {},
   "source": [
    "## Alpha-Ramp Pattern"
   ]
  },
  {
   "cell_type": "code",
   "execution_count": 14,
   "metadata": {},
   "outputs": [
    {
     "ename": "TypeError",
     "evalue": "'str' object is not callable",
     "output_type": "error",
     "traceback": [
      "\u001b[0;31m---------------------------------------------------------------------------\u001b[0m",
      "\u001b[0;31mTypeError\u001b[0m                                 Traceback (most recent call last)",
      "Cell \u001b[0;32mIn[14], line 9\u001b[0m\n\u001b[1;32m      6\u001b[0m     \u001b[38;5;28;01mreturn\u001b[39;00m \u001b[38;5;28;01mNone\u001b[39;00m\n\u001b[1;32m      8\u001b[0m \u001b[38;5;66;03m#Example\u001b[39;00m\n\u001b[0;32m----> 9\u001b[0m \u001b[43malpha_ramp_pattern\u001b[49m\u001b[43m(\u001b[49m\u001b[38;5;241;43m5\u001b[39;49m\u001b[43m)\u001b[49m\n",
      "Cell \u001b[0;32mIn[14], line 4\u001b[0m, in \u001b[0;36malpha_ramp_pattern\u001b[0;34m(n)\u001b[0m\n\u001b[1;32m      2\u001b[0m \u001b[38;5;28;01mfor\u001b[39;00m i \u001b[38;5;129;01min\u001b[39;00m \u001b[38;5;28mrange\u001b[39m(\u001b[38;5;241m1\u001b[39m,n\u001b[38;5;241m+\u001b[39m\u001b[38;5;241m1\u001b[39m):\n\u001b[1;32m      3\u001b[0m     \u001b[38;5;28;01mfor\u001b[39;00m j \u001b[38;5;129;01min\u001b[39;00m \u001b[38;5;28mrange\u001b[39m(\u001b[38;5;241m1\u001b[39m,i\u001b[38;5;241m+\u001b[39m\u001b[38;5;241m1\u001b[39m):\n\u001b[0;32m----> 4\u001b[0m         \u001b[38;5;28mprint\u001b[39m(\u001b[38;5;28;43mchr\u001b[39;49m\u001b[43m(\u001b[49m\u001b[38;5;28;43mord\u001b[39;49m\u001b[43m(\u001b[49m\u001b[38;5;124;43m'\u001b[39;49m\u001b[38;5;124;43m@\u001b[39;49m\u001b[38;5;124;43m'\u001b[39;49m\u001b[43m)\u001b[49m\u001b[38;5;241;43m+\u001b[39;49m\u001b[43mi\u001b[49m\u001b[43m)\u001b[49m, end \u001b[38;5;241m=\u001b[39m \u001b[38;5;124m\"\u001b[39m\u001b[38;5;124m \u001b[39m\u001b[38;5;124m\"\u001b[39m)\n\u001b[1;32m      5\u001b[0m     \u001b[38;5;28mprint\u001b[39m()\n\u001b[1;32m      6\u001b[0m \u001b[38;5;28;01mreturn\u001b[39;00m \u001b[38;5;28;01mNone\u001b[39;00m\n",
      "\u001b[0;31mTypeError\u001b[0m: 'str' object is not callable"
     ]
    }
   ],
   "source": [
    "def alpha_ramp_pattern(n):\n",
    "    for i in range(1,n+1):\n",
    "        for j in range(1,i+1):\n",
    "            print(chr(ord('@')+i), end = \" \")\n",
    "        print()\n",
    "    return None\n",
    "\n",
    "#Example\n",
    "alpha_ramp_pattern(5)"
   ]
  },
  {
   "cell_type": "markdown",
   "metadata": {},
   "source": [
    "## Alpha-Hill Pattern"
   ]
  },
  {
   "cell_type": "code",
   "execution_count": 54,
   "metadata": {},
   "outputs": [
    {
     "name": "stdout",
     "output_type": "stream",
     "text": [
      "  A  \n",
      " ABA \n",
      "ABCBA\n",
      "\n"
     ]
    }
   ],
   "source": [
    "def alpha_hill_pattern(n):\n",
    "    for i in range(1,n+1):\n",
    "        point = (2 * i +1)// 2\n",
    "        for j in range(n-i):\n",
    "            print(\" \", end = \"\")\n",
    "        for k in range(1, 2*i):\n",
    "            if k <= point:\n",
    "                print(chr(ord('@')+k), end = \"\")\n",
    "                k+= 1\n",
    "            else:\n",
    "                point -= 1\n",
    "                print(chr(ord('@')+point), end = \"\")\n",
    "                \n",
    "        for l in range(n-i):\n",
    "            print(\" \", end = \"\")\n",
    "        print()\n",
    "    print()\n",
    "    return None\n",
    "\n",
    "#Example\n",
    "\n",
    "alpha_hill_pattern(3)"
   ]
  },
  {
   "cell_type": "markdown",
   "metadata": {},
   "source": [
    "## Alpha Trianlge Pattern"
   ]
  },
  {
   "cell_type": "code",
   "execution_count": 62,
   "metadata": {},
   "outputs": [
    {
     "name": "stdout",
     "output_type": "stream",
     "text": [
      "E \n",
      "D E \n",
      "C D E \n",
      "B C D E \n",
      "A B C D E \n",
      "\n",
      "\n"
     ]
    }
   ],
   "source": [
    "def alpha_triangle_pattern(n):\n",
    "    for i in range(n):\n",
    "        for j in range(i,-1,-1):\n",
    "            print(chr(ord('@')+n-j), end = \" \")\n",
    "        print() \n",
    "    print(\"\\n\")\n",
    "    return None \n",
    "\n",
    "#Example\n",
    "alpha_triangle_pattern(5)"
   ]
  },
  {
   "cell_type": "markdown",
   "metadata": {},
   "source": [
    "## Symmetric Void Pattern"
   ]
  },
  {
   "cell_type": "code",
   "execution_count": 29,
   "metadata": {},
   "outputs": [],
   "source": [
    "def symmetric_void_Pattern(n):\n",
    "    # Upper part of the pattern\n",
    "    for i in range(n):\n",
    "        for j in range(n - i):\n",
    "            print(\"*\", end=\"\")\n",
    "        for k in range(2 * i):\n",
    "            print(\" \", end=\"\")\n",
    "        for l in range(n - i):\n",
    "            print(\"*\", end=\"\")\n",
    "        print()\n",
    "\n",
    "    # Lower part of the pattern\n",
    "    for i in range(n):\n",
    "        for j in range(i + 1):\n",
    "            print(\"*\", end=\"\")\n",
    "        for k in range(2 * (n - i - 1)):\n",
    "            print(\" \", end=\"\")\n",
    "        for l in range(i + 1):\n",
    "            print(\"*\", end=\"\")\n",
    "        print()\n",
    "\n",
    "# Example\n",
    "symmetric_void_Pattern(5)\n"
   ]
  },
  {
   "cell_type": "markdown",
   "metadata": {},
   "source": [
    "## Symmetric Butterly pattern"
   ]
  },
  {
   "cell_type": "code",
   "execution_count": 68,
   "metadata": {},
   "outputs": [
    {
     "name": "stdout",
     "output_type": "stream",
     "text": [
      "*        *\n",
      "**      **\n",
      "***    ***\n",
      "****  ****\n",
      "**********\n",
      "****  ****\n",
      "***    ***\n",
      "**      **\n",
      "*        *\n"
     ]
    }
   ],
   "source": [
    "def symmetric_Butterfly_Pattern(n):\n",
    "    #upper part of the pattern\n",
    "\n",
    "    for i in range(n):\n",
    "        for j in range(i+1):\n",
    "            print(\"*\", end = \"\")\n",
    "        for k in range(2*(n-i-1)):\n",
    "            print(\" \", end = \"\")\n",
    "        for l in range(i+1):\n",
    "            print(\"*\", end = \"\")\n",
    "        print()\n",
    "    #Lower part of the Pattern\n",
    "\n",
    "    for i in range(1,n):\n",
    "        for j in range(n-i):\n",
    "            print(\"*\", end = \"\")\n",
    "        for k in range(2*i):\n",
    "            print(\" \", end = \"\")\n",
    "        for l in range(n-i):\n",
    "            print(\"*\", end = \"\")\n",
    "        print()\n",
    "\n",
    "\n",
    "    return None\n",
    "\n",
    "#Example\n",
    "\n",
    "symmetric_Butterfly_Pattern(5)"
   ]
  },
  {
   "cell_type": "markdown",
   "metadata": {},
   "source": [
    "## Hollow Rectangle Pattern"
   ]
  },
  {
   "cell_type": "code",
   "execution_count": 84,
   "metadata": {},
   "outputs": [
    {
     "name": "stdout",
     "output_type": "stream",
     "text": [
      "****\n",
      "*  *\n",
      "*  *\n",
      "****\n"
     ]
    }
   ],
   "source": [
    "def Hollow_Rectangle_Pattern(n):\n",
    "    for i in range(n):\n",
    "        if i == 0 or i == n-1:\n",
    "            print(\"*\"*n, end = \"\")\n",
    "        else:\n",
    "            print(\"*\"*(i-(i-1)), end = \"\")\n",
    "            print(\" \"*(n-2), end = \"\")\n",
    "            print(\"*\"*(i-(i-1)), end = \"\")\n",
    "        print()\n",
    "    return None\n",
    "\n",
    "#Example\n",
    "Hollow_Rectangle_Pattern(4)"
   ]
  },
  {
   "cell_type": "markdown",
   "metadata": {},
   "source": [
    "### The Number Pattern"
   ]
  },
  {
   "cell_type": "code",
   "execution_count": 85,
   "metadata": {},
   "outputs": [
    {
     "name": "stdout",
     "output_type": "stream",
     "text": [
      "6 6 6 6 6 6 6 6 6 6 6 \n",
      "6 5 5 5 5 5 5 5 5 5 6 \n",
      "6 5 4 4 4 4 4 4 4 5 6 \n",
      "6 5 4 3 3 3 3 3 4 5 6 \n",
      "6 5 4 3 2 2 2 3 4 5 6 \n",
      "6 5 4 3 2 1 2 3 4 5 6 \n",
      "6 5 4 3 2 2 2 3 4 5 6 \n",
      "6 5 4 3 3 3 3 3 4 5 6 \n",
      "6 5 4 4 4 4 4 4 4 5 6 \n",
      "6 5 5 5 5 5 5 5 5 5 6 \n",
      "6 6 6 6 6 6 6 6 6 6 6 \n"
     ]
    }
   ],
   "source": [
    "def Number_Pattern(n):\n",
    "    size = 2 * n - 1\n",
    "    for i in range(size):\n",
    "        for j in range(size):\n",
    "            # Calculate the value to print based on the minimum distance to an edge\n",
    "            min_distance = min(i, j, size - 1 - i, size - 1 - j)\n",
    "            print(n - min_distance, end=\" \")\n",
    "        print()\n",
    "\n",
    "# Example\n",
    "Number_Pattern(6)\n"
   ]
  },
  {
   "cell_type": "code",
   "execution_count": null,
   "metadata": {},
   "outputs": [],
   "source": []
  }
 ],
 "metadata": {
  "kernelspec": {
   "display_name": "Python 3",
   "language": "python",
   "name": "python3"
  },
  "language_info": {
   "codemirror_mode": {
    "name": "ipython",
    "version": 3
   },
   "file_extension": ".py",
   "mimetype": "text/x-python",
   "name": "python",
   "nbconvert_exporter": "python",
   "pygments_lexer": "ipython3",
   "version": "3.9.6"
  }
 },
 "nbformat": 4,
 "nbformat_minor": 2
}
