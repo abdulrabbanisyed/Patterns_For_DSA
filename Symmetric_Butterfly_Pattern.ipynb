{
 "cells": [
  {
   "cell_type": "markdown",
   "metadata": {},
   "source": [
    "## Symmetric Butterfly Pattern"
   ]
  },
  {
   "cell_type": "code",
   "execution_count": 1,
   "metadata": {},
   "outputs": [
    {
     "name": "stdout",
     "output_type": "stream",
     "text": [
      "*        *\n",
      "**      **\n",
      "***    ***\n",
      "****  ****\n",
      "**********\n",
      "****  ****\n",
      "***    ***\n",
      "**      **\n",
      "*        *\n"
     ]
    }
   ],
   "source": [
    "def symmetric_Butterfly_Pattern(n):\n",
    "    #upper part of the pattern\n",
    "\n",
    "    for i in range(n):\n",
    "        for j in range(i+1):\n",
    "            print(\"*\", end = \"\")\n",
    "        for k in range(2*(n-i-1)):\n",
    "            print(\" \", end = \"\")\n",
    "        for l in range(i+1):\n",
    "            print(\"*\", end = \"\")\n",
    "        print()\n",
    "    #Lower part of the Pattern\n",
    "\n",
    "    for i in range(1,n):\n",
    "        for j in range(n-i):\n",
    "            print(\"*\", end = \"\")\n",
    "        for k in range(2*i):\n",
    "            print(\" \", end = \"\")\n",
    "        for l in range(n-i):\n",
    "            print(\"*\", end = \"\")\n",
    "        print()\n",
    "\n",
    "\n",
    "    return None\n",
    "\n",
    "#Example\n",
    "\n",
    "symmetric_Butterfly_Pattern(5)"
   ]
  },
  {
   "cell_type": "code",
   "execution_count": null,
   "metadata": {},
   "outputs": [],
   "source": []
  },
  {
   "cell_type": "code",
   "execution_count": null,
   "metadata": {},
   "outputs": [],
   "source": []
  }
 ],
 "metadata": {
  "kernelspec": {
   "display_name": "Python 3",
   "language": "python",
   "name": "python3"
  },
  "language_info": {
   "codemirror_mode": {
    "name": "ipython",
    "version": 3
   },
   "file_extension": ".py",
   "mimetype": "text/x-python",
   "name": "python",
   "nbconvert_exporter": "python",
   "pygments_lexer": "ipython3",
   "version": "3.9.6"
  }
 },
 "nbformat": 4,
 "nbformat_minor": 2
}
