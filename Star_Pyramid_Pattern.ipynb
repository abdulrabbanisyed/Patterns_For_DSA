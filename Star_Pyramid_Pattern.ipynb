{
 "cells": [
  {
   "cell_type": "markdown",
   "metadata": {},
   "source": [
    "## Star Pyramid Pattern"
   ]
  },
  {
   "cell_type": "code",
   "execution_count": null,
   "metadata": {},
   "outputs": [],
   "source": [
    "def Star_Pyramid(n):\n",
    "    for i in range(n): # for Outer row \n",
    "        for j in range(n-i-1):\n",
    "            print(\" \", end = \"\") # for leading spaces\n",
    "        for k in range(2 * i + 1):\n",
    "            print(\"*\",end=\"\") # for stars\n",
    "        for l in range(n-i-1):# For leading spaces after stars\n",
    "            print(\" \", end=\"\")\n",
    "        print()\n",
    "    return None\n",
    "Star_Pyramid(10)"
   ]
  }
 ],
 "metadata": {
  "language_info": {
   "name": "python"
  }
 },
 "nbformat": 4,
 "nbformat_minor": 2
}
