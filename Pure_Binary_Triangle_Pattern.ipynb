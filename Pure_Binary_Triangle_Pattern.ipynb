{
 "cells": [
  {
   "cell_type": "markdown",
   "metadata": {},
   "source": [
    "## Puery Binary Triangle Pattern"
   ]
  },
  {
   "cell_type": "code",
   "execution_count": 1,
   "metadata": {},
   "outputs": [
    {
     "name": "stdout",
     "output_type": "stream",
     "text": [
      "1 \n",
      "\n",
      "0 1 \n",
      "\n",
      "0 1 0 \n",
      "\n",
      "1 0 1 0 \n",
      "\n",
      "1 0 1 0 1 \n",
      "\n"
     ]
    }
   ],
   "source": [
    "def binary_number_trianle_Pattern(n):\n",
    "    temp = 1\n",
    "    for i in range(1, n+1):\n",
    "        for j in range(i):\n",
    "            if temp == 1:\n",
    "                print(temp, end = \" \")\n",
    "                temp -= 1\n",
    "            elif temp == 0:\n",
    "                print(temp, end = \" \")\n",
    "                temp += 1\n",
    "        print(\"\\n\")\n",
    "    return None\n",
    "\n",
    "binary_number_trianle_Pattern(5)"
   ]
  },
  {
   "cell_type": "code",
   "execution_count": null,
   "metadata": {},
   "outputs": [],
   "source": []
  }
 ],
 "metadata": {
  "kernelspec": {
   "display_name": "Python 3",
   "language": "python",
   "name": "python3"
  },
  "language_info": {
   "codemirror_mode": {
    "name": "ipython",
    "version": 3
   },
   "file_extension": ".py",
   "mimetype": "text/x-python",
   "name": "python",
   "nbconvert_exporter": "python",
   "pygments_lexer": "ipython3",
   "version": "3.9.6"
  }
 },
 "nbformat": 4,
 "nbformat_minor": 2
}
