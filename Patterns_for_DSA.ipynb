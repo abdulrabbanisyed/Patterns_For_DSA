{
 "cells": [
  {
   "cell_type": "markdown",
   "metadata": {},
   "source": [
    "## Rectangle Pattern\n"
   ]
  },
  {
   "cell_type": "code",
   "execution_count": 23,
   "metadata": {},
   "outputs": [
    {
     "name": "stdout",
     "output_type": "stream",
     "text": [
      "****\n",
      "****\n",
      "****\n",
      "****\n"
     ]
    }
   ],
   "source": [
    "def rectangle_pattern(n):\n",
    "    for i in range(n):\n",
    "        print('*' * n)\n",
    "    return None  \n",
    "\n",
    "rectangle_pattern(4)  "
   ]
  },
  {
   "cell_type": "markdown",
   "metadata": {},
   "source": [
    "## Increasing Order Pattern"
   ]
  },
  {
   "cell_type": "code",
   "execution_count": 24,
   "metadata": {},
   "outputs": [
    {
     "name": "stdout",
     "output_type": "stream",
     "text": [
      "\n",
      "*\n",
      "**\n",
      "***\n",
      "****\n"
     ]
    }
   ],
   "source": [
    "def increasing_order_Pattern(n):\n",
    "    for i in range(n+1):\n",
    "        print('*' * i)\n",
    "    return None\n",
    "increasing_order_Pattern(4)"
   ]
  },
  {
   "cell_type": "markdown",
   "metadata": {},
   "source": [
    "## Increasing Number Pattern"
   ]
  },
  {
   "cell_type": "code",
   "execution_count": 25,
   "metadata": {},
   "outputs": [
    {
     "name": "stdout",
     "output_type": "stream",
     "text": [
      "\n",
      "\n",
      "1\n",
      "\n",
      "12\n",
      "\n",
      "123\n",
      "\n",
      "1234\n",
      "\n",
      "12345\n",
      "\n"
     ]
    }
   ],
   "source": [
    "def Increasing_Number_Pattern(n):\n",
    "    for i in range(n+1):\n",
    "        for j in range(1,i+1):\n",
    "            print(j,end = \"\")\n",
    "        print(\"\\n\")\n",
    "    return None\n",
    "\n",
    "Increasing_Number_Pattern(5)"
   ]
  },
  {
   "cell_type": "markdown",
   "metadata": {},
   "source": [
    "## Increasing Same number Pattern"
   ]
  },
  {
   "cell_type": "code",
   "execution_count": 26,
   "metadata": {},
   "outputs": [
    {
     "name": "stdout",
     "output_type": "stream",
     "text": [
      "\n",
      "\n",
      "1\n",
      "\n",
      "22\n",
      "\n",
      "333\n",
      "\n",
      "4444\n",
      "\n",
      "55555\n",
      "\n"
     ]
    }
   ],
   "source": [
    "def Increasing_same_number(n):\n",
    "    for i in range(n+1):\n",
    "        for j in range(1,i+1):\n",
    "            print(i, end = \"\")\n",
    "        print(\"\\n\")\n",
    "    return None\n",
    "\n",
    "Increasing_same_number(5)"
   ]
  },
  {
   "cell_type": "markdown",
   "metadata": {},
   "source": [
    "## Decreasing Order Pattern"
   ]
  },
  {
   "cell_type": "code",
   "execution_count": 27,
   "metadata": {},
   "outputs": [
    {
     "name": "stdout",
     "output_type": "stream",
     "text": [
      "****\n",
      "***\n",
      "**\n",
      "*\n"
     ]
    }
   ],
   "source": [
    "def Decreasing_Order_Pattern(n):\n",
    "    for i in range(n-1,0,-1):\n",
    "        print(\"*\"* i)\n",
    "    return None\n",
    "\n",
    "Decreasing_Order_Pattern(5)"
   ]
  },
  {
   "cell_type": "markdown",
   "metadata": {},
   "source": [
    "## Decreasing Order Pattern"
   ]
  },
  {
   "cell_type": "code",
   "execution_count": 28,
   "metadata": {},
   "outputs": [
    {
     "name": "stdout",
     "output_type": "stream",
     "text": [
      "12345678910\n",
      "\n",
      "123456789\n",
      "\n",
      "12345678\n",
      "\n",
      "1234567\n",
      "\n",
      "123456\n",
      "\n",
      "12345\n",
      "\n",
      "1234\n",
      "\n",
      "123\n",
      "\n",
      "12\n",
      "\n",
      "1\n",
      "\n"
     ]
    }
   ],
   "source": [
    "def Decreasing_Order_Numbers(n):\n",
    "    for i in range(n, 0, -1):\n",
    "        for j in range(1, i+1):\n",
    "            print(j, end = \"\")\n",
    "        print(\"\\n\")\n",
    "    return None\n",
    "\n",
    "Decreasing_Order_Numbers(10)"
   ]
  },
  {
   "cell_type": "markdown",
   "metadata": {},
   "source": [
    "## Star Pyramid"
   ]
  },
  {
   "cell_type": "code",
   "execution_count": 29,
   "metadata": {},
   "outputs": [
    {
     "name": "stdout",
     "output_type": "stream",
     "text": [
      "         *         \n",
      "        ***        \n",
      "       *****       \n",
      "      *******      \n",
      "     *********     \n",
      "    ***********    \n",
      "   *************   \n",
      "  ***************  \n",
      " ***************** \n",
      "*******************\n"
     ]
    }
   ],
   "source": [
    "def Star_Pyramid(n):\n",
    "    for i in range(n): # for Outer row \n",
    "        for j in range(n-i-1):\n",
    "            print(\" \", end = \"\") # for leading spaces\n",
    "        for k in range(2 * i + 1):\n",
    "            print(\"*\",end=\"\") # for stars\n",
    "        for l in range(n-i-1):# For leading spaces after stars\n",
    "            print(\" \", end=\"\")\n",
    "        print()\n",
    "    return None\n",
    "Star_Pyramid(10)"
   ]
  },
  {
   "cell_type": "markdown",
   "metadata": {},
   "source": [
    "## Optimised Star Pyramid"
   ]
  },
  {
   "cell_type": "code",
   "execution_count": 211,
   "metadata": {},
   "outputs": [
    {
     "name": "stdout",
     "output_type": "stream",
     "text": [
      "         *\n",
      "        ***\n",
      "       *****\n",
      "      *******\n",
      "     *********\n",
      "    ***********\n",
      "   *************\n",
      "  ***************\n",
      " *****************\n",
      "*******************\n",
      "\n",
      "\n"
     ]
    }
   ],
   "source": [
    "def Star_Pyramid(n):\n",
    "    for i in range(n):\n",
    "        # Print leading spaces\n",
    "        for j in range(n - i - 1):\n",
    "            print(\" \", end=\"\")\n",
    "        # Print stars\n",
    "        for k in range(2 * i + 1):\n",
    "            print(\"*\", end=\"\")\n",
    "        # Move to the next line\n",
    "        print()\n",
    "    print(\"\\n\")\n",
    "    return None\n",
    "\n",
    "# Example usage\n",
    "Star_Pyramid(10)\n"
   ]
  },
  {
   "cell_type": "markdown",
   "metadata": {},
   "source": [
    "## Reverse Star Pyramid"
   ]
  },
  {
   "cell_type": "code",
   "execution_count": 30,
   "metadata": {},
   "outputs": [
    {
     "name": "stdout",
     "output_type": "stream",
     "text": [
      "*******************\n",
      " *****************\n",
      "  ***************\n",
      "   *************\n",
      "    ***********\n",
      "     *********\n",
      "      *******\n",
      "       *****\n",
      "        ***\n",
      "         *\n",
      "\n",
      "\n"
     ]
    }
   ],
   "source": [
    "def reverse_star_pyramid(n):\n",
    "    for i in range(n,0,-1):\n",
    "        for j in range(n-i):\n",
    "            print(\" \", end = \"\")\n",
    "        for k in range(2 * i - 1):\n",
    "            print(\"*\", end = \"\")\n",
    "        print()\n",
    "    print(\"\\n\")\n",
    "    return None\n",
    "\n",
    "reverse_star_pyramid(10)"
   ]
  },
  {
   "cell_type": "markdown",
   "metadata": {},
   "source": [
    "## Diamond Star Pattern"
   ]
  },
  {
   "cell_type": "code",
   "execution_count": 31,
   "metadata": {},
   "outputs": [
    {
     "name": "stdout",
     "output_type": "stream",
     "text": [
      "         *         \n",
      "        ***        \n",
      "       *****       \n",
      "      *******      \n",
      "     *********     \n",
      "    ***********    \n",
      "   *************   \n",
      "  ***************  \n",
      " ***************** \n",
      "*******************\n",
      "*******************\n",
      " *****************\n",
      "  ***************\n",
      "   *************\n",
      "    ***********\n",
      "     *********\n",
      "      *******\n",
      "       *****\n",
      "        ***\n",
      "         *\n",
      "\n",
      "\n"
     ]
    }
   ],
   "source": [
    "def diamond_star(n):\n",
    "    x = Star_Pyramid(n)\n",
    "    x = reverse_star_pyramid(n)\n",
    "    return x\n",
    "\n",
    "diamond_star(10)"
   ]
  },
  {
   "cell_type": "markdown",
   "metadata": {},
   "source": [
    "## Half Diamond Star Pattern"
   ]
  },
  {
   "cell_type": "code",
   "execution_count": 32,
   "metadata": {},
   "outputs": [
    {
     "name": "stdout",
     "output_type": "stream",
     "text": [
      "\n",
      "*\n",
      "**\n",
      "***\n",
      "****\n",
      "*****\n",
      "******\n",
      "*******\n",
      "********\n",
      "*********\n",
      "**********\n",
      "*********\n",
      "********\n",
      "*******\n",
      "******\n",
      "*****\n",
      "****\n",
      "***\n",
      "**\n",
      "*\n",
      "\n",
      "\n"
     ]
    }
   ],
   "source": [
    "def half_diamond_star(n):\n",
    "    for i in range(2 * n):\n",
    "        stars = i\n",
    "        if i > n:\n",
    "            stars = 2 * n - i\n",
    "        print(\"*\" * stars)\n",
    "    print(\"\\n\")\n",
    "    return None\n",
    "\n",
    "half_diamond_star(10)"
   ]
  },
  {
   "cell_type": "markdown",
   "metadata": {},
   "source": [
    "## Pure Binary Triangle Pattern"
   ]
  },
  {
   "cell_type": "code",
   "execution_count": 33,
   "metadata": {},
   "outputs": [
    {
     "name": "stdout",
     "output_type": "stream",
     "text": [
      "1 \n",
      "\n",
      "0 1 \n",
      "\n",
      "0 1 0 \n",
      "\n",
      "1 0 1 0 \n",
      "\n",
      "1 0 1 0 1 \n",
      "\n"
     ]
    }
   ],
   "source": [
    "def binary_number_trianle_Pattern(n):\n",
    "    temp = 1\n",
    "    for i in range(1, n+1):\n",
    "        for j in range(i):\n",
    "            if temp == 1:\n",
    "                print(temp, end = \" \")\n",
    "                temp -= 1\n",
    "            elif temp == 0:\n",
    "                print(temp, end = \" \")\n",
    "                temp += 1\n",
    "        print(\"\\n\")\n",
    "    return None\n",
    "\n",
    "binary_number_trianle_Pattern(5)"
   ]
  },
  {
   "cell_type": "markdown",
   "metadata": {},
   "source": [
    "## Worst Case Binary Number Triangle Pattern"
   ]
  },
  {
   "cell_type": "code",
   "execution_count": 35,
   "metadata": {},
   "outputs": [
    {
     "name": "stdout",
     "output_type": "stream",
     "text": [
      "1 \n",
      "\n",
      "\n",
      "0 1 \n",
      "\n",
      "\n",
      "1 0 1 \n",
      "\n",
      "\n",
      "0 1 0 1 \n",
      "\n",
      "\n",
      "1 0 1 0 1 \n",
      "\n",
      "\n"
     ]
    }
   ],
   "source": [
    "def binary_number_trianle_Pattern1(n):\n",
    "    for i in range(1,n+1):\n",
    "        if i == 1:\n",
    "            temp = 1\n",
    "            print(temp, end = \" \")\n",
    "            print()\n",
    "        elif i % 2 == 0:\n",
    "            temp = 0\n",
    "            for j in range(i):\n",
    "                if temp == 1:\n",
    "                    print(temp, end = \" \")\n",
    "                    temp -= 1\n",
    "                elif temp == 0:\n",
    "                    print(temp, end = \" \")\n",
    "                    temp += 1\n",
    "            print()\n",
    "        elif i % 2 != 0:\n",
    "            temp = 1\n",
    "            for k in range(i):\n",
    "                if temp == 1:\n",
    "                    print(temp, end = \" \")\n",
    "                    temp -= 1\n",
    "                elif temp == 0:\n",
    "                    print(temp, end = \" \")\n",
    "                    temp += 1\n",
    "            print()\n",
    "        else:\n",
    "            print(\"Invalid Operation\")\n",
    "        print(\"\\n\")\n",
    "    return None\n",
    "\n",
    "binary_number_trianle_Pattern1(5)\n"
   ]
  },
  {
   "cell_type": "markdown",
   "metadata": {},
   "source": [
    "## Optimized Binary Nummber Triangle Pattern"
   ]
  },
  {
   "cell_type": "code",
   "execution_count": 36,
   "metadata": {},
   "outputs": [
    {
     "name": "stdout",
     "output_type": "stream",
     "text": [
      "1 \n",
      "\n",
      "0 1 \n",
      "\n",
      "1 0 1 \n",
      "\n",
      "0 1 0 1 \n",
      "\n",
      "1 0 1 0 1 \n",
      "\n"
     ]
    }
   ],
   "source": [
    "def binary_number_trianle_Pattern2(n):\n",
    "    for i in range(1,n+1):\n",
    "        if i % 2 == 0:\n",
    "            temp = 0\n",
    "        else:\n",
    "            temp = 1\n",
    "        for j in range(i):\n",
    "            print(temp, end = \" \")\n",
    "            temp = 1- temp\n",
    "        print(\"\\n\")\n",
    "    return None\n",
    "binary_number_trianle_Pattern2(5)"
   ]
  },
  {
   "cell_type": "code",
   "execution_count": null,
   "metadata": {},
   "outputs": [],
   "source": []
  }
 ],
 "metadata": {
  "kernelspec": {
   "display_name": "Python 3",
   "language": "python",
   "name": "python3"
  },
  "language_info": {
   "codemirror_mode": {
    "name": "ipython",
    "version": 3
   },
   "file_extension": ".py",
   "mimetype": "text/x-python",
   "name": "python",
   "nbconvert_exporter": "python",
   "pygments_lexer": "ipython3",
   "version": "3.9.6"
  }
 },
 "nbformat": 4,
 "nbformat_minor": 2
}
