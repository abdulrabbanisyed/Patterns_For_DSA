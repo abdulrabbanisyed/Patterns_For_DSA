{
 "cells": [
  {
   "cell_type": "markdown",
   "metadata": {},
   "source": [
    "## Number Pattern"
   ]
  },
  {
   "cell_type": "code",
   "execution_count": 81,
   "metadata": {},
   "outputs": [
    {
     "name": "stdout",
     "output_type": "stream",
     "text": [
      "6 6 6 6 6 6 6 6 6 6 6 \n",
      "6 5 5 5 5 5 5 5 5 5 6 \n",
      "6 5 4 4 4 4 4 4 4 5 6 \n",
      "6 5 4 3 3 3 3 3 4 5 6 \n",
      "6 5 4 3 2 2 2 3 4 5 6 \n",
      "6 5 4 3 2 1 2 3 4 5 6 \n",
      "6 5 4 3 2 2 2 3 4 5 6 \n",
      "6 5 4 3 3 3 3 3 4 5 6 \n",
      "6 5 4 4 4 4 4 4 4 5 6 \n",
      "6 5 5 5 5 5 5 5 5 5 6 \n",
      "6 6 6 6 6 6 6 6 6 6 6 \n"
     ]
    }
   ],
   "source": [
    "def Number_Pattern(n):\n",
    "    size = 2 * n - 1\n",
    "    for i in range(size):\n",
    "        for j in range(size):\n",
    "            # Calculate the value to print based on the minimum distance to an edge\n",
    "            min_distance = min(i, j, size - 1 - i, size - 1 - j)\n",
    "            print(n - min_distance, end=\" \")\n",
    "        print()\n",
    "\n",
    "# Example\n",
    "Number_Pattern(6)\n"
   ]
  },
  {
   "cell_type": "code",
   "execution_count": null,
   "metadata": {},
   "outputs": [],
   "source": []
  }
 ],
 "metadata": {
  "kernelspec": {
   "display_name": "Python 3",
   "language": "python",
   "name": "python3"
  },
  "language_info": {
   "codemirror_mode": {
    "name": "ipython",
    "version": 3
   },
   "file_extension": ".py",
   "mimetype": "text/x-python",
   "name": "python",
   "nbconvert_exporter": "python",
   "pygments_lexer": "ipython3",
   "version": "3.9.6"
  }
 },
 "nbformat": 4,
 "nbformat_minor": 2
}
