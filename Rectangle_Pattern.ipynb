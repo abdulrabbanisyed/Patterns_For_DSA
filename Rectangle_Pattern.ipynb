{
 "cells": [
  {
   "cell_type": "markdown",
   "metadata": {},
   "source": [
    "## Rectangle Pattern"
   ]
  },
  {
   "cell_type": "code",
   "execution_count": null,
   "metadata": {},
   "outputs": [],
   "source": [
    "def rectangle_pattern(n):\n",
    "    for i in range(n):\n",
    "        print('*' * n)\n",
    "    return None  \n",
    "\n",
    "rectangle_pattern(4)  "
   ]
  }
 ],
 "metadata": {
  "language_info": {
   "name": "python"
  }
 },
 "nbformat": 4,
 "nbformat_minor": 2
}
