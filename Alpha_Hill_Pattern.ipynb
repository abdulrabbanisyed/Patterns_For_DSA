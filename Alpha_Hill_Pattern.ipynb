{
 "cells": [
  {
   "cell_type": "markdown",
   "metadata": {},
   "source": [
    "##  Alpha Hill  Pattern"
   ]
  },
  {
   "cell_type": "code",
   "execution_count": 12,
   "metadata": {},
   "outputs": [
    {
     "name": "stdout",
     "output_type": "stream",
     "text": [
      "  A  \n",
      " ABA \n",
      "ABCBA\n",
      "\n"
     ]
    }
   ],
   "source": [
    "def alpha_hill_pattern(n):\n",
    "    for i in range(1,n+1):\n",
    "        point = (2 * i +1)// 2\n",
    "        for j in range(n-i):\n",
    "            print(\" \", end = \"\")\n",
    "        for k in range(1, 2*i):\n",
    "            if k <= point:\n",
    "                print(chr(ord('@')+k), end = \"\")\n",
    "                k+= 1\n",
    "            else:\n",
    "                point -= 1\n",
    "                print(chr(ord('@')+point), end = \"\")\n",
    "                \n",
    "        for l in range(n-i):\n",
    "            print(\" \", end = \"\")\n",
    "        print()\n",
    "    print()\n",
    "    return None\n",
    "\n",
    "#Example\n",
    "\n",
    "alpha_hill_pattern(3)"
   ]
  },
  {
   "cell_type": "code",
   "execution_count": null,
   "metadata": {},
   "outputs": [],
   "source": []
  }
 ],
 "metadata": {
  "kernelspec": {
   "display_name": "Python 3",
   "language": "python",
   "name": "python3"
  },
  "language_info": {
   "codemirror_mode": {
    "name": "ipython",
    "version": 3
   },
   "file_extension": ".py",
   "mimetype": "text/x-python",
   "name": "python",
   "nbconvert_exporter": "python",
   "pygments_lexer": "ipython3",
   "version": "3.9.6"
  }
 },
 "nbformat": 4,
 "nbformat_minor": 2
}
