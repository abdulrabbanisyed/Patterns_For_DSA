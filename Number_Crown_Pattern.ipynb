{
 "cells": [
  {
   "cell_type": "markdown",
   "metadata": {},
   "source": [
    "## Number Crown Pattern"
   ]
  },
  {
   "cell_type": "code",
   "execution_count": 2,
   "metadata": {},
   "outputs": [
    {
     "name": "stdout",
     "output_type": "stream",
     "text": [
      "1                1\n",
      "12              21\n",
      "123            321\n",
      "1234          4321\n",
      "12345        54321\n",
      "123456      654321\n",
      "1234567    7654321\n",
      "12345678  87654321\n",
      "123456789987654321\n"
     ]
    }
   ],
   "source": [
    "def number_crown_pattern(n):\n",
    "    spaces = 2 *(n-1) # for spaces between numbers\n",
    "    for i in range(1,n+1):\n",
    "        for j in range(1,i+1):# printing the numbers in increasing order\n",
    "            print(j, end = \"\")\n",
    "        for k in range(spaces):\n",
    "            print(\" \", end = \"\")# printing the spaces between numbers\n",
    "        for l in range(i,0,-1):\n",
    "            print(l, end = \"\")# printing the numbers in decreasing order\n",
    "        print()\n",
    "        spaces -= 2 # after each increament the spaces reduce by 2\n",
    "    return None\n",
    "\n",
    "number_crown_pattern(9)\n"
   ]
  },
  {
   "cell_type": "code",
   "execution_count": null,
   "metadata": {},
   "outputs": [],
   "source": []
  }
 ],
 "metadata": {
  "kernelspec": {
   "display_name": "Python 3",
   "language": "python",
   "name": "python3"
  },
  "language_info": {
   "codemirror_mode": {
    "name": "ipython",
    "version": 3
   },
   "file_extension": ".py",
   "mimetype": "text/x-python",
   "name": "python",
   "nbconvert_exporter": "python",
   "pygments_lexer": "ipython3",
   "version": "3.9.6"
  }
 },
 "nbformat": 4,
 "nbformat_minor": 2
}
