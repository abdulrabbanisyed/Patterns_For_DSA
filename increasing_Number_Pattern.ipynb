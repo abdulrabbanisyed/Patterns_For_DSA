{
 "cells": [
  {
   "cell_type": "markdown",
   "metadata": {},
   "source": [
    "## Increasing Number Pattern"
   ]
  },
  {
   "cell_type": "code",
   "execution_count": null,
   "metadata": {},
   "outputs": [],
   "source": [
    "def Increasing_Number_Pattern(n):\n",
    "    for i in range(n+1):\n",
    "        for j in range(1,i+1):\n",
    "            print(j,end = \"\")\n",
    "        print(\"\\n\")\n",
    "    return None\n",
    "\n",
    "Increasing_Number_Pattern(5)"
   ]
  }
 ],
 "metadata": {
  "language_info": {
   "name": "python"
  }
 },
 "nbformat": 4,
 "nbformat_minor": 2
}
