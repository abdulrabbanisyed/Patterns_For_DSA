{
 "cells": [
  {
   "cell_type": "markdown",
   "metadata": {},
   "source": [
    "## Decreasing Number Pattern"
   ]
  },
  {
   "cell_type": "code",
   "execution_count": null,
   "metadata": {},
   "outputs": [],
   "source": [
    "def Decreasing_Order_Pattern(n):\n",
    "    for i in range(n-1,0,-1):\n",
    "        print(\"*\"* i)\n",
    "    return None\n",
    "\n",
    "Decreasing_Order_Pattern(5)"
   ]
  }
 ],
 "metadata": {
  "language_info": {
   "name": "python"
  }
 },
 "nbformat": 4,
 "nbformat_minor": 2
}
